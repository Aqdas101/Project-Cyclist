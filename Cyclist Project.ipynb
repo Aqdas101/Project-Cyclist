{
 "cells": [
  {
   "cell_type": "markdown",
   "metadata": {},
   "source": [
    "# Import Libraries"
   ]
  },
  {
   "cell_type": "code",
   "execution_count": 1,
   "metadata": {},
   "outputs": [],
   "source": [
    "import pandas as pd\n",
    "import matplotlib.pyplot as plt\n",
    "import seaborn as sns\n",
    "from math import radians, cos, sin, asin, sqrt\n",
    "import calendar\n",
    "import numpy as np"
   ]
  },
  {
   "cell_type": "markdown",
   "metadata": {},
   "source": [
    "# Import Files"
   ]
  },
  {
   "cell_type": "code",
   "execution_count": 2,
   "metadata": {},
   "outputs": [],
   "source": [
    "filename = [\"202112-divvy-tripdata\", \"202201-divvy-tripdata\",\"202202-divvy-tripdata\", \"202203-divvy-tripdata\",\\\n",
    "           \"202204-divvy-tripdata\",\"202205-divvy-tripdata\",\"202206-divvy-tripdata\",\"202207-divvy-tripdata\",\\\n",
    "           \"202208-divvy-tripdata\",\"202209-divvy-publictripdata\",\"202210-divvy-tripdata\",\"202211-divvy-tripdata\"] # file names\n",
    "\n",
    "df_variable = [] \n",
    "for i in range(0,13): \n",
    "    df_variable.append(\"df\" + str(i) ) \n",
    "\n",
    "for i,ind in zip(filename,range(0,13)):\n",
    "    filename[ind] = i + '.csv' \n",
    "\n",
    "for d,f in zip(df_variable,filename): # looping through filename and variables name \n",
    "    globals()[d] = pd.read_csv(f) # convert strings into variable and read the files\n",
    "   "
   ]
  },
  {
   "cell_type": "markdown",
   "metadata": {},
   "source": [
    "# Transformation"
   ]
  },
  {
   "cell_type": "code",
   "execution_count": 3,
   "metadata": {},
   "outputs": [],
   "source": [
    "def analysis(data):\n",
    "\n",
    "    data.started_at = pd.to_datetime(data.started_at) # convert column to daat time object\n",
    "    data.ended_at = pd.to_datetime(data.ended_at) # same \n",
    "    data[\"WeekDay\"]= data.started_at.dt.weekday # create a weekday column \n",
    "    data[\"rideLength\"] = round(((data.ended_at - data.started_at).dt.seconds)/60,2) # creat a ride length column\n",
    "    data = data.dropna() # drop empty rows\n",
    "    \n",
    "    # calculate the distance by using latitude and longitude\n",
    "    def distance(lat1, lat2, lon1, lon2):\n",
    "     \n",
    "        # The math module contains a function named\n",
    "        # radians which converts from degrees to radians.\n",
    "        lon1 = radians(lon1)\n",
    "        lon2 = radians(lon2)\n",
    "        lat1 = radians(lat1)\n",
    "        lat2 = radians(lat2)\n",
    "\n",
    "        # Haversine formula\n",
    "        dlon = lon2 - lon1\n",
    "        dlat = lat2 - lat1\n",
    "        a = sin(dlat / 2)**2 + cos(lat1) * cos(lat2) * sin(dlon / 2)**2\n",
    "\n",
    "        c = 2 * asin(sqrt(a))\n",
    "\n",
    "        # Radius of earth in kilometers. Use 3956 for miles\n",
    "        r = 6371\n",
    "\n",
    "        # calculate the result\n",
    "        return(c * r)\n",
    "    \n",
    "\n",
    "    ride_length = []\n",
    "    for lat1,lat2,lon1,lon2, in zip(data.start_lat,data.end_lat,data.start_lng,data.end_lng):\n",
    "        x = distance(lat1,lat2,lon1,lon2)\n",
    "        ride_length.append(x)\n",
    "        \n",
    "    ride = []\n",
    "    for i in ride_length:\n",
    "        ride.append(round(i,2))\n",
    "        \n",
    "    data[\"distance_KM\"] = ride\n",
    "    \n",
    "    \n",
    "    return data"
   ]
  },
  {
   "cell_type": "code",
   "execution_count": 4,
   "metadata": {},
   "outputs": [],
   "source": [
    "def analysis1(data):\n",
    "\n",
    "    data.started_at = pd.to_datetime(data.started_at) # convert column to daat time object\n",
    "    data.ended_at = pd.to_datetime(data.ended_at) # same \n",
    "    data[\"WeekDay\"]= data.started_at.dt.weekday # create a weekday column \n",
    "    data[\"rideLength\"] = round(((data.ended_at - data.started_at).dt.seconds)/60,2) # creat a ride length column\n",
    "    data = data.dropna() # drop empty rows\n",
    "    \n",
    "    # calculate the distance by using latitude and longitude\n",
    "    def distance(lat1, lat2, lon1, lon2):\n",
    "     \n",
    "        # The math module contains a function named\n",
    "        # radians which converts from degrees to radians.\n",
    "        lon1 = radians(lon1)\n",
    "        lon2 = radians(lon2)\n",
    "        lat1 = radians(lat1)\n",
    "        lat2 = radians(lat2)\n",
    "\n",
    "        # Haversine formula\n",
    "        dlon = lon2 - lon1\n",
    "        dlat = lat2 - lat1\n",
    "        a = sin(dlat / 2)**2 + cos(lat1) * cos(lat2) * sin(dlon / 2)**2\n",
    "\n",
    "        c = 2 * asin(sqrt(a))\n",
    "\n",
    "        # Radius of earth in kilometers. Use 3956 for miles\n",
    "        r = 6371\n",
    "\n",
    "        # calculate the result\n",
    "        return(c * r)\n",
    "    \n",
    "\n",
    "    ride_length = []\n",
    "    for lat1,lat2,lon1,lon2, in zip(data.start_lat,data.end_lat,data.start_lng,data.end_lng):\n",
    "        x = distance(lat1,lat2,lon1,lon2)\n",
    "        ride_length.append(x)\n",
    "        \n",
    "    ride = []\n",
    "    for i in ride_length:\n",
    "        ride.append(round(i,2))\n",
    "        \n",
    "    data[\"distance_KM\"] = ride\n",
    "    \n",
    "    return data.groupby(['member_casual','WeekDay'])['rideLength'].agg(['mean'])"
   ]
  },
  {
   "cell_type": "code",
   "execution_count": 5,
   "metadata": {},
   "outputs": [
    {
     "name": "stderr",
     "output_type": "stream",
     "text": [
      "F:\\New folder\\lib\\site-packages\\ipykernel_launcher.py:42: SettingWithCopyWarning: \n",
      "A value is trying to be set on a copy of a slice from a DataFrame.\n",
      "Try using .loc[row_indexer,col_indexer] = value instead\n",
      "\n",
      "See the caveats in the documentation: http://pandas.pydata.org/pandas-docs/stable/indexing.html#indexing-view-versus-copy\n"
     ]
    }
   ],
   "source": [
    "for i in (df0,df1,df2,df3,df4,df5,df6,df7,df8,df9,df10,df11):\n",
    "    analysis(i)"
   ]
  },
  {
   "cell_type": "markdown",
   "metadata": {},
   "source": [
    "# Time series chart of number of rides booked monthly"
   ]
  },
  {
   "cell_type": "code",
   "execution_count": 6,
   "metadata": {},
   "outputs": [],
   "source": [
    "casual_rides = pd.Series()\n",
    "for month,i in zip(calendar.month_name[12:] + calendar.month_name[:12][1:],([df0,df1,df2,df3,df4,df5,df6,df7,df8,df9,df10,df11])):\n",
    "    x = i.groupby('member_casual').get_group('casual').ride_id.count()\n",
    "    casual_rides[month] = x\n",
    "    "
   ]
  },
  {
   "cell_type": "code",
   "execution_count": 7,
   "metadata": {},
   "outputs": [],
   "source": [
    "member_rides = pd.Series()\n",
    "for month,i in zip(calendar.month_name[12:] + calendar.month_name[:12][1:],([df0,df1,df2,df3,df4,df5,df6,df7,df8,df9,df10,df11])):\n",
    "    x = i.groupby('member_casual').get_group('member').ride_id.count()\n",
    "    member_rides[month] = x"
   ]
  },
  {
   "cell_type": "code",
   "execution_count": 8,
   "metadata": {},
   "outputs": [],
   "source": [
    "member_rides = pd.DataFrame(member_rides).reset_index()"
   ]
  },
  {
   "cell_type": "code",
   "execution_count": 9,
   "metadata": {},
   "outputs": [],
   "source": [
    "member_rides.columns = ['month','numRides']"
   ]
  },
  {
   "cell_type": "code",
   "execution_count": 10,
   "metadata": {},
   "outputs": [],
   "source": [
    "casual_rides = pd.DataFrame(casual_rides).reset_index()"
   ]
  },
  {
   "cell_type": "code",
   "execution_count": 11,
   "metadata": {},
   "outputs": [],
   "source": [
    "casual_rides.columns = ['month','numRides']"
   ]
  },
  {
   "cell_type": "code",
   "execution_count": null,
   "metadata": {},
   "outputs": [],
   "source": []
  },
  {
   "cell_type": "code",
   "execution_count": null,
   "metadata": {},
   "outputs": [],
   "source": []
  },
  {
   "cell_type": "code",
   "execution_count": 71,
   "metadata": {},
   "outputs": [
    {
     "data": {
      "image/png": "[encoded data removed]",
      "text/plain": [
       "<Figure size 1152x432 with 1 Axes>"
      ]
     },
     "metadata": {
      "needs_background": "light"
     },
     "output_type": "display_data"
    }
   ],
   "source": [
    "plt.figure(figsize=(16,6))\n",
    "plt.plot(casual_rides.month,casual_rides.numRides,linewidth=4,marker='o',markersize=8,color='#5C80BC',)\n",
    "plt.plot(member_rides.month,member_rides.numRides,alpha=0.2,marker='o',markersize=8,color = '#040403',lw=4)\n",
    "\n",
    "ax = plt.gca()\n",
    "for i in ['top','right','left','bottom']:\n",
    "    ax.spines[i].set_visible(False)\n",
    "plt.title('Total Rides per month',weight='bold',size=18,fontdict={'family':'poppins'},pad=20,color='black')\n",
    "plt.annotate('40 Lacs Rides\\n Used in July', xy=(7.1,410000),xytext=(4,490000), arrowprops=dict(fc='#5C80BC',shrink=0.07,ec='none')\\\n",
    "            ,color='black',size=15,weight='bold',family='Inter')\n",
    "plt.ylim([0,550000])\n",
    "plt.xlabel('Months',size=15)\n",
    "plt.ylabel('Number Of Rides',size=15)\n",
    "\n",
    "\n",
    "plt.savefig('plot2.png',facecolor='none',edgecolor='none',transparent=True)"
   ]
  },
  {
   "cell_type": "markdown",
   "metadata": {},
   "source": [
    "# Comparison of average number of rides per weekday"
   ]
  },
  {
   "cell_type": "code",
   "execution_count": 13,
   "metadata": {},
   "outputs": [],
   "source": [
    "summary_summer = df0.groupby(['member_casual','WeekDay'])['ride_id'].agg(['count']).drop(['count'],axis=1)"
   ]
  },
  {
   "cell_type": "code",
   "execution_count": 14,
   "metadata": {},
   "outputs": [],
   "source": [
    "for month,df in zip(calendar.month_name[5:11],[df5,df6,df7,df8,df9,df10]):\n",
    "            summary_summer[month] = df.groupby(['member_casual','WeekDay'])['ride_id'].agg(['count'])['count'].values"
   ]
  },
  {
   "cell_type": "code",
   "execution_count": 15,
   "metadata": {},
   "outputs": [],
   "source": [
    "summary_winter = df0.groupby(['member_casual','WeekDay'])['ride_id'].agg(['count']).drop(['count'],axis=1)"
   ]
  },
  {
   "cell_type": "code",
   "execution_count": 16,
   "metadata": {},
   "outputs": [],
   "source": [
    "for month,df in zip(calendar.month_name[11:13] + calendar.month_name[1:5],[df11,df0,df1,df2,df3,df4]):\n",
    "            summary_winter[month] = df.groupby(['member_casual','WeekDay'])['ride_id'].agg(['count'])['count'].values"
   ]
  },
  {
   "cell_type": "code",
   "execution_count": 17,
   "metadata": {},
   "outputs": [],
   "source": [
    "mean = []\n",
    "for i in range(0,14):\n",
    "    mean.append(summary_summer.iloc[i,0:6].mean())"
   ]
  },
  {
   "cell_type": "code",
   "execution_count": 18,
   "metadata": {},
   "outputs": [],
   "source": [
    "summary_summer['avg_numRides'] = mean\n",
    "summary_summer = summary_summer.reset_index()"
   ]
  },
  {
   "cell_type": "code",
   "execution_count": 19,
   "metadata": {},
   "outputs": [],
   "source": [
    "summer_rides_casual = summary_summer[summary_summer.member_casual == 'casual']\n",
    "summer_rides_members = summary_summer[summary_summer.member_casual == 'member']"
   ]
  },
  {
   "cell_type": "code",
   "execution_count": 20,
   "metadata": {},
   "outputs": [],
   "source": [
    "mean_winter = []\n",
    "for i in range(0,14):\n",
    "    mean_winter.append(summary_winter.iloc[i,0:6].mean())"
   ]
  },
  {
   "cell_type": "code",
   "execution_count": 21,
   "metadata": {},
   "outputs": [],
   "source": [
    "summary_winter['avg_numRides'] = mean_winter\n",
    "summary_winter = summary_winter.reset_index()"
   ]
  },
  {
   "cell_type": "code",
   "execution_count": 22,
   "metadata": {},
   "outputs": [],
   "source": [
    "summer_rides_casual_winter = summary_winter[summary_winter.member_casual == 'casual']\n",
    "summer_rides_members_winter = summary_winter[summary_winter.member_casual == 'member']"
   ]
  },
  {
   "cell_type": "code",
   "execution_count": 72,
   "metadata": {},
   "outputs": [
    {
     "data": {
      "image/png": "[encoded data removed]",
      "text/plain": [
       "<Figure size 2016x720 with 2 Axes>"
      ]
     },
     "metadata": {
      "needs_background": "light"
     },
     "output_type": "display_data"
    }
   ],
   "source": [
    "fig, [ax1,ax2] = plt.subplots(1,2,figsize=(28,10))\n",
    "ax1.bar(summer_rides_casual.WeekDay,summer_rides_casual.avg_numRides,color='#FB8F67',width=0.7)\n",
    "ax1.bar(summer_rides_casual.WeekDay,summer_rides_members.avg_numRides, bottom=summer_rides_casual.avg_numRides,color='black'\\\n",
    "       ,alpha = 0.3,width=0.7)\n",
    "ax1.set_xticks([0,1,2,3,4,5,6],['Sunday','Monday',\"Tuesday\",'Wednesday','Thursday','Friday','Saturday'])\n",
    "ax1.text(3,132000,'Summer Season',weight='bold',fontsize='25',horizontalalignment='center',verticalalignment='center',color='black')\n",
    "ax1.tick_params(axis='x',labelsize=15)\n",
    "for i in ['top','left','right','bottom']:\n",
    "    ax1.spines[i].set_visible(False)\n",
    "ax1.tick_params(axis='x',labelsize=15,width=3,pad=5)\n",
    "ax1.tick_params(axis='y',labelsize=15,width=3,pad=5)\n",
    "ax1.grid(axis='y')\n",
    "\n",
    "\n",
    "ax2.bar(summer_rides_casual_winter.WeekDay, summer_rides_casual_winter.avg_numRides,color='#FB8F67',width=0.7)\n",
    "ax2.bar(summer_rides_casual_winter.WeekDay, summer_rides_members_winter.avg_numRides, bottom= \\\n",
    "       summer_rides_casual_winter.avg_numRides,color='black',alpha=0.3,width=0.7)\n",
    "ax2.set_xticks([0,1,2,3,4,5,6],['Sunday','Monday',\"Tuesday\",'Wednesday','Thursday','Friday','Saturday'])\n",
    "ax2.text(3,43000,'Winter Season',weight='bold',fontsize='25',horizontalalignment='center',verticalalignment='center',color='black')\n",
    "ax2.tick_params(axis='x',labelsize=15,width=3,pad=5)\n",
    "ax2.tick_params(axis='y',labelsize=15,width=3,pad=5)\n",
    "ax2.grid(axis='y')\n",
    "\n",
    "for i in ['top','left','right','bottom']:\n",
    "    ax2.spines[i].set_visible(False)\n",
    "    \n",
    "\n",
    "\n",
    "\n",
    "plt.savefig('bar1.png',facecolor='none',edgecolor='none',transparent=True)"
   ]
  },
  {
   "cell_type": "code",
   "execution_count": 24,
   "metadata": {},
   "outputs": [
    {
     "name": "stderr",
     "output_type": "stream",
     "text": [
      "F:\\New folder\\lib\\site-packages\\ipykernel_launcher.py:42: SettingWithCopyWarning: \n",
      "A value is trying to be set on a copy of a slice from a DataFrame.\n",
      "Try using .loc[row_indexer,col_indexer] = value instead\n",
      "\n",
      "See the caveats in the documentation: http://pandas.pydata.org/pandas-docs/stable/indexing.html#indexing-view-versus-copy\n"
     ]
    }
   ],
   "source": [
    "for i,df in zip(['d0','d1','d2','d3','d4','d5','d6','d7','d8','d9','d10','d11'],[df0,df1,df2,df3,df4,df5,df6,df7,df8,df9,df10,df11]):\n",
    "     globals()[i] = analysis1(df)"
   ]
  },
  {
   "cell_type": "code",
   "execution_count": 25,
   "metadata": {},
   "outputs": [],
   "source": [
    "mean_ridetime = d0.merge(d1,how='inner',on=['member_casual','WeekDay']).\\\n",
    "    merge(d2,how='inner',on=['member_casual','WeekDay']).\\\n",
    "    merge(d3,how='inner',on=['member_casual','WeekDay']).\\\n",
    "    merge(d4,how='inner',on=['member_casual','WeekDay']).\\\n",
    "    merge(d5,how='inner',on=['member_casual','WeekDay']).\\\n",
    "    merge(d6,how='inner',on=['member_casual','WeekDay']).\\\n",
    "    merge(d7,how='inner',on=['member_casual','WeekDay']).\\\n",
    "    merge(d8,how='inner',on=['member_casual','WeekDay']).\\\n",
    "    merge(d9,how='inner',on=['member_casual','WeekDay']).\\\n",
    "    merge(d10,how='inner',on=['member_casual','WeekDay']).\\\n",
    "    merge(d11,how='inner',on=['member_casual','WeekDay'])"
   ]
  },
  {
   "cell_type": "code",
   "execution_count": null,
   "metadata": {},
   "outputs": [],
   "source": []
  },
  {
   "cell_type": "code",
   "execution_count": 26,
   "metadata": {},
   "outputs": [],
   "source": [
    "Avgride_time = []\n",
    "for i in range(0,14):   \n",
    "    x = mean_ridetime.iloc[i,0:13].mean()\n",
    "    Avgride_time.append(x)"
   ]
  },
  {
   "cell_type": "code",
   "execution_count": 27,
   "metadata": {},
   "outputs": [],
   "source": [
    "mean_ridetime['Avg_time'] = Avgride_time"
   ]
  },
  {
   "cell_type": "code",
   "execution_count": 28,
   "metadata": {},
   "outputs": [],
   "source": [
    "Avg_ridetime_casual = mean_ridetime.loc['casual']['Avg_time']\n",
    "Avg_ridetime_member = mean_ridetime.loc['member']['Avg_time']"
   ]
  },
  {
   "cell_type": "code",
   "execution_count": 73,
   "metadata": {},
   "outputs": [
    {
     "data": {
      "image/png": "[encoded data removed]",
      "text/plain": [
       "<Figure size 504x360 with 1 Axes>"
      ]
     },
     "metadata": {
      "needs_background": "light"
     },
     "output_type": "display_data"
    }
   ],
   "source": [
    "plt.figure(figsize=(7,5))\n",
    "plt.barh(Avg_ridetime_casual.index, Avg_ridetime_casual.values,height=0.65,color='#FB8F67')\n",
    "plt.barh(Avg_ridetime_casual.index, Avg_ridetime_member.values, left=Avg_ridetime_casual.values, alpha=0.2, color='black',height=0.65)\n",
    "plt.yticks([0,1,2,3,4,5,6],['Sunday','Monday',\"Tuesday\",'Wednesday','Thursday','Friday','Saturday'])\n",
    "plt.title('Average Week Day Ride Time', weight='bold',size=20,fontdict={'family':'Inter'},pad=10)\n",
    "plt.xlim([0,40])\n",
    "abc= plt.gca()\n",
    "for i in ['top','bottom','right']:\n",
    "    abc.spines[i].set_visible(False)\n",
    "plt.xlabel('Minutes',size=15)\n",
    "plt.ylabel('Days',size=15)\n",
    "\n",
    "\n",
    "plt.savefig('bar1.png',facecolor='none',edgecolor='none',transparent=True)"
   ]
  },
  {
   "cell_type": "code",
   "execution_count": 30,
   "metadata": {},
   "outputs": [],
   "source": [
    "# Most common stations in top 3\n",
    "popular_stations = []\n",
    "for i in [df0,df1,df2,df3,df4,df5,df6,df7,df8,df9,df10,df11]:\n",
    "    x = i.groupby('member_casual').get_group('casual')['start_station_name'].value_counts().nlargest(1)\n",
    "    popular_stations.append(x)\n",
    "    "
   ]
  },
  {
   "cell_type": "code",
   "execution_count": 31,
   "metadata": {},
   "outputs": [
    {
     "data": {
      "text/plain": [
       "[DuSable Lake Shore Dr & Monroe St    983\n",
       " Name: start_station_name, dtype: int64, Clark St & Elm St    127\n",
       " Name: start_station_name, dtype: int64, Streeter Dr & Grand Ave    198\n",
       " Name: start_station_name, dtype: int64, Streeter Dr & Grand Ave    2399\n",
       " Name: start_station_name, dtype: int64, Streeter Dr & Grand Ave    3033\n",
       " Name: start_station_name, dtype: int64, Streeter Dr & Grand Ave    7743\n",
       " Name: start_station_name, dtype: int64, Streeter Dr & Grand Ave    9608\n",
       " Name: start_station_name, dtype: int64, Streeter Dr & Grand Ave    11794\n",
       " Name: start_station_name, dtype: int64, Streeter Dr & Grand Ave    9651\n",
       " Name: start_station_name, dtype: int64, Streeter Dr & Grand Ave    7016\n",
       " Name: start_station_name, dtype: int64, Streeter Dr & Grand Ave    4391\n",
       " Name: start_station_name, dtype: int64, Streeter Dr & Grand Ave    1732\n",
       " Name: start_station_name, dtype: int64]"
      ]
     },
     "execution_count": 31,
     "metadata": {},
     "output_type": "execute_result"
    }
   ],
   "source": [
    "popular_stations"
   ]
  },
  {
   "cell_type": "markdown",
   "metadata": {},
   "source": [
    "### Most used station among casual is Streeter Dr & Grand Ave station"
   ]
  },
  {
   "cell_type": "code",
   "execution_count": 32,
   "metadata": {},
   "outputs": [],
   "source": [
    "popular_bike_casual = []\n",
    "for i in [df0,df1,df2,df3,df4,df5,df6,df7,df8,df9,df10,df11]:\n",
    "    x = i.groupby(['member_casual','rideable_type'])['rideable_type'].value_counts().loc['casual'].nlargest(1)\n",
    "    popular_bike_casual.append(x)"
   ]
  },
  {
   "cell_type": "code",
   "execution_count": 33,
   "metadata": {},
   "outputs": [
    {
     "data": {
      "text/plain": [
       "[rideable_type  rideable_type\n",
       " electric_bike  electric_bike    45004\n",
       " Name: rideable_type, dtype: int64, rideable_type  rideable_type\n",
       " electric_bike  electric_bike    10585\n",
       " Name: rideable_type, dtype: int64, rideable_type  rideable_type\n",
       " electric_bike  electric_bike    11948\n",
       " Name: rideable_type, dtype: int64, rideable_type  rideable_type\n",
       " electric_bike  electric_bike    46137\n",
       " Name: rideable_type, dtype: int64, rideable_type  rideable_type\n",
       " electric_bike  electric_bike    66758\n",
       " Name: rideable_type, dtype: int64, rideable_type  rideable_type\n",
       " electric_bike  electric_bike    127931\n",
       " Name: rideable_type, dtype: int64, rideable_type  rideable_type\n",
       " classic_bike   classic_bike     169996\n",
       " Name: rideable_type, dtype: int64, rideable_type  rideable_type\n",
       " electric_bike  electric_bike    218905\n",
       " Name: rideable_type, dtype: int64, rideable_type  rideable_type\n",
       " electric_bike  electric_bike    203966\n",
       " Name: rideable_type, dtype: int64, rideable_type  rideable_type\n",
       " electric_bike  electric_bike    171496\n",
       " Name: rideable_type, dtype: int64, rideable_type  rideable_type\n",
       " electric_bike  electric_bike    134807\n",
       " Name: rideable_type, dtype: int64, rideable_type  rideable_type\n",
       " electric_bike  electric_bike    61834\n",
       " Name: rideable_type, dtype: int64]"
      ]
     },
     "execution_count": 33,
     "metadata": {},
     "output_type": "execute_result"
    }
   ],
   "source": [
    "popular_bike_casual"
   ]
  },
  {
   "cell_type": "markdown",
   "metadata": {},
   "source": [
    "### Mostly bike used by casual is electric bike"
   ]
  },
  {
   "cell_type": "code",
   "execution_count": 34,
   "metadata": {},
   "outputs": [
    {
     "name": "stderr",
     "output_type": "stream",
     "text": [
      "F:\\New folder\\lib\\site-packages\\ipykernel_launcher.py:42: SettingWithCopyWarning: \n",
      "A value is trying to be set on a copy of a slice from a DataFrame.\n",
      "Try using .loc[row_indexer,col_indexer] = value instead\n",
      "\n",
      "See the caveats in the documentation: http://pandas.pydata.org/pandas-docs/stable/indexing.html#indexing-view-versus-copy\n"
     ]
    }
   ],
   "source": [
    "df0 = analysis(df0)"
   ]
  },
  {
   "cell_type": "code",
   "execution_count": 35,
   "metadata": {},
   "outputs": [
    {
     "name": "stdout",
     "output_type": "stream",
     "text": [
      "rideable_type\n",
      "electric_bike    42687.44\n",
      "Name: distance_KM, dtype: float64\n"
     ]
    },
    {
     "name": "stderr",
     "output_type": "stream",
     "text": [
      "F:\\New folder\\lib\\site-packages\\ipykernel_launcher.py:42: SettingWithCopyWarning: \n",
      "A value is trying to be set on a copy of a slice from a DataFrame.\n",
      "Try using .loc[row_indexer,col_indexer] = value instead\n",
      "\n",
      "See the caveats in the documentation: http://pandas.pydata.org/pandas-docs/stable/indexing.html#indexing-view-versus-copy\n"
     ]
    },
    {
     "name": "stdout",
     "output_type": "stream",
     "text": [
      "rideable_type\n",
      "classic_bike    10765.56\n",
      "Name: distance_KM, dtype: float64\n",
      "rideable_type\n",
      "classic_bike    13643.79\n",
      "Name: distance_KM, dtype: float64\n",
      "rideable_type\n",
      "classic_bike    71901.45\n",
      "Name: distance_KM, dtype: float64\n",
      "rideable_type\n",
      "classic_bike    98408.87\n",
      "Name: distance_KM, dtype: float64\n",
      "rideable_type\n",
      "classic_bike    268646.0\n",
      "Name: distance_KM, dtype: float64\n",
      "rideable_type\n",
      "classic_bike    359681.54\n",
      "Name: distance_KM, dtype: float64\n",
      "rideable_type\n",
      "classic_bike    331365.94\n",
      "Name: distance_KM, dtype: float64\n",
      "rideable_type\n",
      "classic_bike    269891.35\n",
      "Name: distance_KM, dtype: float64\n",
      "rideable_type\n",
      "classic_bike    218272.79\n",
      "Name: distance_KM, dtype: float64\n",
      "rideable_type\n",
      "electric_bike    163321.42\n",
      "Name: distance_KM, dtype: float64\n",
      "rideable_type\n",
      "electric_bike    78754.43\n",
      "Name: distance_KM, dtype: float64\n"
     ]
    }
   ],
   "source": [
    "for i in [df0,df1,df2,df3,df4,df5,df6,df7,df8,df9,df10,df11]:\n",
    "    x = analysis(i).groupby(['member_casual','rideable_type'])['distance_KM'].sum().loc['casual']\n",
    "    print(x.nlargest(1))"
   ]
  },
  {
   "cell_type": "markdown",
   "metadata": {},
   "source": [
    "### Classic bikes are most preferable among casual for covering large distance "
   ]
  },
  {
   "cell_type": "code",
   "execution_count": 36,
   "metadata": {},
   "outputs": [],
   "source": [
    "for var,i in zip(['f0','f1','f2','f3','f4','f5','f6','f7','f8','f9','f10','f11'],[df0,df1,df2,df3,df4,df5,df6,df7,df8,df9,df10,df11]):\n",
    "     globals()[var] = pd.DataFrame(i.groupby(['member_casual','rideable_type'])['ride_id'].count()).loc['casual']\n",
    "\n",
    "\n",
    "bikeCasuals = pd.concat([f0,f1,f2,f3,f4,f5,f6,f7,f8,f9,f10,f11],axis=1)\n",
    "\n",
    "bikeCasuals = pd.DataFrame((bikeCasuals.mean(axis=1))).reset_index()\n",
    "\n",
    "bikeCasuals.columns = ['rideType','Avgcount']"
   ]
  },
  {
   "cell_type": "code",
   "execution_count": 74,
   "metadata": {},
   "outputs": [
    {
     "name": "stderr",
     "output_type": "stream",
     "text": [
      "F:\\New folder\\lib\\site-packages\\ipykernel_launcher.py:3: MatplotlibDeprecationWarning: savefig() got unexpected keyword argument \"fc\" which is no longer supported as of 3.3 and will become an error in 3.6\n",
      "  This is separate from the ipykernel package so we can avoid doing imports until\n",
      "F:\\New folder\\lib\\site-packages\\ipykernel_launcher.py:3: MatplotlibDeprecationWarning: savefig() got unexpected keyword argument \"ec\" which is no longer supported as of 3.3 and will become an error in 3.6\n",
      "  This is separate from the ipykernel package so we can avoid doing imports until\n"
     ]
    },
    {
     "data": {
      "image/png": "[encoded data removed]",
      "text/plain": [
       "<Figure size 504x504 with 1 Axes>"
      ]
     },
     "metadata": {},
     "output_type": "display_data"
    }
   ],
   "source": [
    "plt.figure(figsize=(7,7))\n",
    "plt.pie(bikeCasuals['Avgcount'],labels=bikeCasuals['rideType'],colors=['#FB8F67','#F8E16C','#00C49A'],explode=(0,0,0.06)\\\n",
    "       ,shadow=True,autopct='%1.1f%%',textprops = {\"color\":'black','size':15,\"weight\":'bold'})\n",
    "plt.savefig('pie.png',fc='none',ec='none',transparent=True)"
   ]
  },
  {
   "cell_type": "code",
   "execution_count": null,
   "metadata": {},
   "outputs": [],
   "source": []
  },
  {
   "cell_type": "code",
   "execution_count": null,
   "metadata": {},
   "outputs": [],
   "source": []
  },
  {
   "cell_type": "code",
   "execution_count": null,
   "metadata": {},
   "outputs": [],
   "source": []
  },
  {
   "cell_type": "code",
   "execution_count": null,
   "metadata": {},
   "outputs": [],
   "source": []
  },
  {
   "cell_type": "code",
   "execution_count": null,
   "metadata": {},
   "outputs": [],
   "source": []
  }
 ],
 "metadata": {
  "kernelspec": {
   "display_name": "Python 3",
   "language": "python",
   "name": "python3"
  },
  "language_info": {
   "codemirror_mode": {
    "name": "ipython",
    "version": 3
   },
   "file_extension": ".py",
   "mimetype": "text/x-python",
   "name": "python",
   "nbconvert_exporter": "python",
   "pygments_lexer": "ipython3",
   "version": "3.7.0"
  }
 },
 "nbformat": 4,
 "nbformat_minor": 2
}
